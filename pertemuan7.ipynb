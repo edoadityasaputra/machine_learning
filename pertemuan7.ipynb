{
 "cells": [
  {
   "cell_type": "code",
   "execution_count": 38,
   "id": "2ab40544",
   "metadata": {},
   "outputs": [
    {
     "name": "stdout",
     "output_type": "stream",
     "text": [
      "(40, 5) (9, 5) (9, 5)\n"
     ]
    }
   ],
   "source": [
    "import pandas as pd\n",
    "from sklearn.model_selection import train_test_split\n",
    "from sklearn.preprocessing import StandardScaler\n",
    "\n",
    "df = pd.read_csv(\"processed_kelulusan.csv\")\n",
    "X = df.drop(\"Lulus\", axis=1)\n",
    "y = df[\"Lulus\"]\n",
    "\n",
    "sc = StandardScaler()\n",
    "Xs = sc.fit_transform(X)\n",
    "\n",
    "X_train, X_temp, y_train, y_temp = train_test_split(\n",
    "    Xs, y, test_size=0.3, stratify=y, random_state=42)\n",
    "X_val, X_test, y_val, y_test = train_test_split(\n",
    "    X_temp, y_temp, test_size=0.5, random_state=42)\n",
    "\n",
    "print(X_train.shape, X_val.shape, X_test.shape)"
   ]
  },
  {
   "cell_type": "code",
   "execution_count": 39,
   "id": "0d0e30ad",
   "metadata": {},
   "outputs": [
    {
     "data": {
      "text/html": [
       "<pre style=\"white-space:pre;overflow-x:auto;line-height:normal;font-family:Menlo,'DejaVu Sans Mono',consolas,'Courier New',monospace\"><span style=\"font-weight: bold\">Model: \"sequential_6\"</span>\n",
       "</pre>\n"
      ],
      "text/plain": [
       "\u001b[1mModel: \"sequential_6\"\u001b[0m\n"
      ]
     },
     "metadata": {},
     "output_type": "display_data"
    },
    {
     "data": {
      "text/html": [
       "<pre style=\"white-space:pre;overflow-x:auto;line-height:normal;font-family:Menlo,'DejaVu Sans Mono',consolas,'Courier New',monospace\">┏━━━━━━━━━━━━━━━━━━━━━━━━━━━━━━━━━┳━━━━━━━━━━━━━━━━━━━━━━━━┳━━━━━━━━━━━━━━━┓\n",
       "┃<span style=\"font-weight: bold\"> Layer (type)                    </span>┃<span style=\"font-weight: bold\"> Output Shape           </span>┃<span style=\"font-weight: bold\">       Param # </span>┃\n",
       "┡━━━━━━━━━━━━━━━━━━━━━━━━━━━━━━━━━╇━━━━━━━━━━━━━━━━━━━━━━━━╇━━━━━━━━━━━━━━━┩\n",
       "│ dense_18 (<span style=\"color: #0087ff; text-decoration-color: #0087ff\">Dense</span>)                │ (<span style=\"color: #00d7ff; text-decoration-color: #00d7ff\">None</span>, <span style=\"color: #00af00; text-decoration-color: #00af00\">32</span>)             │           <span style=\"color: #00af00; text-decoration-color: #00af00\">192</span> │\n",
       "├─────────────────────────────────┼────────────────────────┼───────────────┤\n",
       "│ dropout_6 (<span style=\"color: #0087ff; text-decoration-color: #0087ff\">Dropout</span>)             │ (<span style=\"color: #00d7ff; text-decoration-color: #00d7ff\">None</span>, <span style=\"color: #00af00; text-decoration-color: #00af00\">32</span>)             │             <span style=\"color: #00af00; text-decoration-color: #00af00\">0</span> │\n",
       "├─────────────────────────────────┼────────────────────────┼───────────────┤\n",
       "│ dense_19 (<span style=\"color: #0087ff; text-decoration-color: #0087ff\">Dense</span>)                │ (<span style=\"color: #00d7ff; text-decoration-color: #00d7ff\">None</span>, <span style=\"color: #00af00; text-decoration-color: #00af00\">16</span>)             │           <span style=\"color: #00af00; text-decoration-color: #00af00\">528</span> │\n",
       "├─────────────────────────────────┼────────────────────────┼───────────────┤\n",
       "│ dense_20 (<span style=\"color: #0087ff; text-decoration-color: #0087ff\">Dense</span>)                │ (<span style=\"color: #00d7ff; text-decoration-color: #00d7ff\">None</span>, <span style=\"color: #00af00; text-decoration-color: #00af00\">1</span>)              │            <span style=\"color: #00af00; text-decoration-color: #00af00\">17</span> │\n",
       "└─────────────────────────────────┴────────────────────────┴───────────────┘\n",
       "</pre>\n"
      ],
      "text/plain": [
       "┏━━━━━━━━━━━━━━━━━━━━━━━━━━━━━━━━━┳━━━━━━━━━━━━━━━━━━━━━━━━┳━━━━━━━━━━━━━━━┓\n",
       "┃\u001b[1m \u001b[0m\u001b[1mLayer (type)                   \u001b[0m\u001b[1m \u001b[0m┃\u001b[1m \u001b[0m\u001b[1mOutput Shape          \u001b[0m\u001b[1m \u001b[0m┃\u001b[1m \u001b[0m\u001b[1m      Param #\u001b[0m\u001b[1m \u001b[0m┃\n",
       "┡━━━━━━━━━━━━━━━━━━━━━━━━━━━━━━━━━╇━━━━━━━━━━━━━━━━━━━━━━━━╇━━━━━━━━━━━━━━━┩\n",
       "│ dense_18 (\u001b[38;5;33mDense\u001b[0m)                │ (\u001b[38;5;45mNone\u001b[0m, \u001b[38;5;34m32\u001b[0m)             │           \u001b[38;5;34m192\u001b[0m │\n",
       "├─────────────────────────────────┼────────────────────────┼───────────────┤\n",
       "│ dropout_6 (\u001b[38;5;33mDropout\u001b[0m)             │ (\u001b[38;5;45mNone\u001b[0m, \u001b[38;5;34m32\u001b[0m)             │             \u001b[38;5;34m0\u001b[0m │\n",
       "├─────────────────────────────────┼────────────────────────┼───────────────┤\n",
       "│ dense_19 (\u001b[38;5;33mDense\u001b[0m)                │ (\u001b[38;5;45mNone\u001b[0m, \u001b[38;5;34m16\u001b[0m)             │           \u001b[38;5;34m528\u001b[0m │\n",
       "├─────────────────────────────────┼────────────────────────┼───────────────┤\n",
       "│ dense_20 (\u001b[38;5;33mDense\u001b[0m)                │ (\u001b[38;5;45mNone\u001b[0m, \u001b[38;5;34m1\u001b[0m)              │            \u001b[38;5;34m17\u001b[0m │\n",
       "└─────────────────────────────────┴────────────────────────┴───────────────┘\n"
      ]
     },
     "metadata": {},
     "output_type": "display_data"
    },
    {
     "data": {
      "text/html": [
       "<pre style=\"white-space:pre;overflow-x:auto;line-height:normal;font-family:Menlo,'DejaVu Sans Mono',consolas,'Courier New',monospace\"><span style=\"font-weight: bold\"> Total params: </span><span style=\"color: #00af00; text-decoration-color: #00af00\">737</span> (2.88 KB)\n",
       "</pre>\n"
      ],
      "text/plain": [
       "\u001b[1m Total params: \u001b[0m\u001b[38;5;34m737\u001b[0m (2.88 KB)\n"
      ]
     },
     "metadata": {},
     "output_type": "display_data"
    },
    {
     "data": {
      "text/html": [
       "<pre style=\"white-space:pre;overflow-x:auto;line-height:normal;font-family:Menlo,'DejaVu Sans Mono',consolas,'Courier New',monospace\"><span style=\"font-weight: bold\"> Trainable params: </span><span style=\"color: #00af00; text-decoration-color: #00af00\">737</span> (2.88 KB)\n",
       "</pre>\n"
      ],
      "text/plain": [
       "\u001b[1m Trainable params: \u001b[0m\u001b[38;5;34m737\u001b[0m (2.88 KB)\n"
      ]
     },
     "metadata": {},
     "output_type": "display_data"
    },
    {
     "data": {
      "text/html": [
       "<pre style=\"white-space:pre;overflow-x:auto;line-height:normal;font-family:Menlo,'DejaVu Sans Mono',consolas,'Courier New',monospace\"><span style=\"font-weight: bold\"> Non-trainable params: </span><span style=\"color: #00af00; text-decoration-color: #00af00\">0</span> (0.00 B)\n",
       "</pre>\n"
      ],
      "text/plain": [
       "\u001b[1m Non-trainable params: \u001b[0m\u001b[38;5;34m0\u001b[0m (0.00 B)\n"
      ]
     },
     "metadata": {},
     "output_type": "display_data"
    }
   ],
   "source": [
    "import tensorflow as tf\n",
    "from tensorflow import keras\n",
    "from tensorflow.keras import layers\n",
    "\n",
    "model = keras.Sequential([\n",
    "    layers.Input(shape=(X_train.shape[1],)),\n",
    "    layers.Dense(32, activation=\"relu\"),\n",
    "    layers.Dropout(0.3),\n",
    "    layers.Dense(16, activation=\"relu\"),\n",
    "    layers.Dense(1, activation=\"sigmoid\")\n",
    "])\n",
    "\n",
    "\n",
    "\n",
    "model.compile(optimizer=keras.optimizers.Adam(1e-3),\n",
    "              loss=\"binary_crossentropy\",\n",
    "              metrics=[\"accuracy\",\"AUC\"])\n",
    "model.summary()"
   ]
  },
  {
   "cell_type": "code",
   "execution_count": 40,
   "id": "9819374e",
   "metadata": {},
   "outputs": [
    {
     "name": "stdout",
     "output_type": "stream",
     "text": [
      "Epoch 1/100\n",
      "\u001b[1m2/2\u001b[0m \u001b[32m━━━━━━━━━━━━━━━━━━━━\u001b[0m\u001b[37m\u001b[0m \u001b[1m4s\u001b[0m 746ms/step - AUC: 0.4137 - accuracy: 0.5750 - loss: 0.7500 - val_AUC: 0.4000 - val_accuracy: 0.5556 - val_loss: 0.6858\n",
      "Epoch 2/100\n",
      "\u001b[1m2/2\u001b[0m \u001b[32m━━━━━━━━━━━━━━━━━━━━\u001b[0m\u001b[37m\u001b[0m \u001b[1m1s\u001b[0m 131ms/step - AUC: 0.4825 - accuracy: 0.5250 - loss: 0.7510 - val_AUC: 0.9000 - val_accuracy: 0.5556 - val_loss: 0.6553\n",
      "Epoch 3/100\n",
      "\u001b[1m2/2\u001b[0m \u001b[32m━━━━━━━━━━━━━━━━━━━━\u001b[0m\u001b[37m\u001b[0m \u001b[1m0s\u001b[0m 139ms/step - AUC: 0.5825 - accuracy: 0.6750 - loss: 0.7701 - val_AUC: 1.0000 - val_accuracy: 0.6667 - val_loss: 0.6281\n",
      "Epoch 4/100\n",
      "\u001b[1m2/2\u001b[0m \u001b[32m━━━━━━━━━━━━━━━━━━━━\u001b[0m\u001b[37m\u001b[0m \u001b[1m0s\u001b[0m 137ms/step - AUC: 0.6163 - accuracy: 0.6500 - loss: 0.7675 - val_AUC: 1.0000 - val_accuracy: 1.0000 - val_loss: 0.6028\n",
      "Epoch 5/100\n",
      "\u001b[1m2/2\u001b[0m \u001b[32m━━━━━━━━━━━━━━━━━━━━\u001b[0m\u001b[37m\u001b[0m \u001b[1m0s\u001b[0m 180ms/step - AUC: 0.7063 - accuracy: 0.7250 - loss: 0.6689 - val_AUC: 1.0000 - val_accuracy: 1.0000 - val_loss: 0.5791\n",
      "Epoch 6/100\n",
      "\u001b[1m2/2\u001b[0m \u001b[32m━━━━━━━━━━━━━━━━━━━━\u001b[0m\u001b[37m\u001b[0m \u001b[1m0s\u001b[0m 185ms/step - AUC: 0.8025 - accuracy: 0.8000 - loss: 0.5983 - val_AUC: 1.0000 - val_accuracy: 1.0000 - val_loss: 0.5564\n",
      "Epoch 7/100\n",
      "\u001b[1m2/2\u001b[0m \u001b[32m━━━━━━━━━━━━━━━━━━━━\u001b[0m\u001b[37m\u001b[0m \u001b[1m0s\u001b[0m 194ms/step - AUC: 0.6825 - accuracy: 0.7500 - loss: 0.6580 - val_AUC: 1.0000 - val_accuracy: 1.0000 - val_loss: 0.5346\n",
      "Epoch 8/100\n",
      "\u001b[1m2/2\u001b[0m \u001b[32m━━━━━━━━━━━━━━━━━━━━\u001b[0m\u001b[37m\u001b[0m \u001b[1m0s\u001b[0m 182ms/step - AUC: 0.9400 - accuracy: 0.9000 - loss: 0.5068 - val_AUC: 1.0000 - val_accuracy: 1.0000 - val_loss: 0.5139\n",
      "Epoch 9/100\n",
      "\u001b[1m2/2\u001b[0m \u001b[32m━━━━━━━━━━━━━━━━━━━━\u001b[0m\u001b[37m\u001b[0m \u001b[1m0s\u001b[0m 130ms/step - AUC: 0.8575 - accuracy: 0.8250 - loss: 0.5500 - val_AUC: 1.0000 - val_accuracy: 1.0000 - val_loss: 0.4933\n",
      "Epoch 10/100\n",
      "\u001b[1m2/2\u001b[0m \u001b[32m━━━━━━━━━━━━━━━━━━━━\u001b[0m\u001b[37m\u001b[0m \u001b[1m0s\u001b[0m 128ms/step - AUC: 1.0000 - accuracy: 0.9000 - loss: 0.4653 - val_AUC: 1.0000 - val_accuracy: 1.0000 - val_loss: 0.4738\n",
      "Epoch 11/100\n",
      "\u001b[1m2/2\u001b[0m \u001b[32m━━━━━━━━━━━━━━━━━━━━\u001b[0m\u001b[37m\u001b[0m \u001b[1m0s\u001b[0m 143ms/step - AUC: 0.9737 - accuracy: 0.8750 - loss: 0.4988 - val_AUC: 1.0000 - val_accuracy: 1.0000 - val_loss: 0.4546\n",
      "Epoch 12/100\n",
      "\u001b[1m2/2\u001b[0m \u001b[32m━━━━━━━━━━━━━━━━━━━━\u001b[0m\u001b[37m\u001b[0m \u001b[1m0s\u001b[0m 142ms/step - AUC: 0.9350 - accuracy: 0.8250 - loss: 0.4951 - val_AUC: 1.0000 - val_accuracy: 1.0000 - val_loss: 0.4360\n",
      "Epoch 13/100\n",
      "\u001b[1m2/2\u001b[0m \u001b[32m━━━━━━━━━━━━━━━━━━━━\u001b[0m\u001b[37m\u001b[0m \u001b[1m0s\u001b[0m 229ms/step - AUC: 1.0000 - accuracy: 0.9500 - loss: 0.4169 - val_AUC: 1.0000 - val_accuracy: 1.0000 - val_loss: 0.4181\n",
      "Epoch 14/100\n",
      "\u001b[1m2/2\u001b[0m \u001b[32m━━━━━━━━━━━━━━━━━━━━\u001b[0m\u001b[37m\u001b[0m \u001b[1m0s\u001b[0m 167ms/step - AUC: 0.9875 - accuracy: 0.9250 - loss: 0.4333 - val_AUC: 1.0000 - val_accuracy: 1.0000 - val_loss: 0.4009\n",
      "Epoch 15/100\n",
      "\u001b[1m2/2\u001b[0m \u001b[32m━━━━━━━━━━━━━━━━━━━━\u001b[0m\u001b[37m\u001b[0m \u001b[1m0s\u001b[0m 137ms/step - AUC: 0.9488 - accuracy: 0.9250 - loss: 0.4383 - val_AUC: 1.0000 - val_accuracy: 1.0000 - val_loss: 0.3843\n",
      "Epoch 16/100\n",
      "\u001b[1m2/2\u001b[0m \u001b[32m━━━━━━━━━━━━━━━━━━━━\u001b[0m\u001b[37m\u001b[0m \u001b[1m0s\u001b[0m 133ms/step - AUC: 1.0000 - accuracy: 0.9750 - loss: 0.3716 - val_AUC: 1.0000 - val_accuracy: 1.0000 - val_loss: 0.3684\n",
      "Epoch 17/100\n",
      "\u001b[1m2/2\u001b[0m \u001b[32m━━━━━━━━━━━━━━━━━━━━\u001b[0m\u001b[37m\u001b[0m \u001b[1m0s\u001b[0m 171ms/step - AUC: 0.9950 - accuracy: 0.9500 - loss: 0.3647 - val_AUC: 1.0000 - val_accuracy: 1.0000 - val_loss: 0.3532\n",
      "Epoch 18/100\n",
      "\u001b[1m2/2\u001b[0m \u001b[32m━━━━━━━━━━━━━━━━━━━━\u001b[0m\u001b[37m\u001b[0m \u001b[1m0s\u001b[0m 140ms/step - AUC: 1.0000 - accuracy: 0.9500 - loss: 0.3576 - val_AUC: 1.0000 - val_accuracy: 1.0000 - val_loss: 0.3387\n",
      "Epoch 19/100\n",
      "\u001b[1m2/2\u001b[0m \u001b[32m━━━━━━━━━━━━━━━━━━━━\u001b[0m\u001b[37m\u001b[0m \u001b[1m0s\u001b[0m 128ms/step - AUC: 0.9925 - accuracy: 0.9250 - loss: 0.3584 - val_AUC: 1.0000 - val_accuracy: 1.0000 - val_loss: 0.3249\n",
      "Epoch 20/100\n",
      "\u001b[1m2/2\u001b[0m \u001b[32m━━━━━━━━━━━━━━━━━━━━\u001b[0m\u001b[37m\u001b[0m \u001b[1m0s\u001b[0m 130ms/step - AUC: 0.9900 - accuracy: 0.9500 - loss: 0.3633 - val_AUC: 1.0000 - val_accuracy: 1.0000 - val_loss: 0.3115\n",
      "Epoch 21/100\n",
      "\u001b[1m2/2\u001b[0m \u001b[32m━━━━━━━━━━━━━━━━━━━━\u001b[0m\u001b[37m\u001b[0m \u001b[1m0s\u001b[0m 130ms/step - AUC: 0.9975 - accuracy: 0.9750 - loss: 0.3424 - val_AUC: 1.0000 - val_accuracy: 1.0000 - val_loss: 0.2984\n",
      "Epoch 22/100\n",
      "\u001b[1m2/2\u001b[0m \u001b[32m━━━━━━━━━━━━━━━━━━━━\u001b[0m\u001b[37m\u001b[0m \u001b[1m0s\u001b[0m 128ms/step - AUC: 1.0000 - accuracy: 1.0000 - loss: 0.3012 - val_AUC: 1.0000 - val_accuracy: 1.0000 - val_loss: 0.2856\n",
      "Epoch 23/100\n",
      "\u001b[1m2/2\u001b[0m \u001b[32m━━━━━━━━━━━━━━━━━━━━\u001b[0m\u001b[37m\u001b[0m \u001b[1m0s\u001b[0m 130ms/step - AUC: 1.0000 - accuracy: 1.0000 - loss: 0.2759 - val_AUC: 1.0000 - val_accuracy: 1.0000 - val_loss: 0.2732\n",
      "Epoch 24/100\n",
      "\u001b[1m2/2\u001b[0m \u001b[32m━━━━━━━━━━━━━━━━━━━━\u001b[0m\u001b[37m\u001b[0m \u001b[1m0s\u001b[0m 135ms/step - AUC: 1.0000 - accuracy: 1.0000 - loss: 0.2793 - val_AUC: 1.0000 - val_accuracy: 1.0000 - val_loss: 0.2614\n",
      "Epoch 25/100\n",
      "\u001b[1m2/2\u001b[0m \u001b[32m━━━━━━━━━━━━━━━━━━━━\u001b[0m\u001b[37m\u001b[0m \u001b[1m0s\u001b[0m 142ms/step - AUC: 1.0000 - accuracy: 0.9750 - loss: 0.3045 - val_AUC: 1.0000 - val_accuracy: 1.0000 - val_loss: 0.2501\n",
      "Epoch 26/100\n",
      "\u001b[1m2/2\u001b[0m \u001b[32m━━━━━━━━━━━━━━━━━━━━\u001b[0m\u001b[37m\u001b[0m \u001b[1m0s\u001b[0m 146ms/step - AUC: 1.0000 - accuracy: 1.0000 - loss: 0.2698 - val_AUC: 1.0000 - val_accuracy: 1.0000 - val_loss: 0.2391\n",
      "Epoch 27/100\n",
      "\u001b[1m2/2\u001b[0m \u001b[32m━━━━━━━━━━━━━━━━━━━━\u001b[0m\u001b[37m\u001b[0m \u001b[1m0s\u001b[0m 146ms/step - AUC: 1.0000 - accuracy: 1.0000 - loss: 0.2699 - val_AUC: 1.0000 - val_accuracy: 1.0000 - val_loss: 0.2286\n",
      "Epoch 28/100\n",
      "\u001b[1m2/2\u001b[0m \u001b[32m━━━━━━━━━━━━━━━━━━━━\u001b[0m\u001b[37m\u001b[0m \u001b[1m0s\u001b[0m 170ms/step - AUC: 1.0000 - accuracy: 0.9750 - loss: 0.2512 - val_AUC: 1.0000 - val_accuracy: 1.0000 - val_loss: 0.2186\n",
      "Epoch 29/100\n",
      "\u001b[1m2/2\u001b[0m \u001b[32m━━━━━━━━━━━━━━━━━━━━\u001b[0m\u001b[37m\u001b[0m \u001b[1m0s\u001b[0m 129ms/step - AUC: 1.0000 - accuracy: 0.9750 - loss: 0.2532 - val_AUC: 1.0000 - val_accuracy: 1.0000 - val_loss: 0.2091\n",
      "Epoch 30/100\n",
      "\u001b[1m2/2\u001b[0m \u001b[32m━━━━━━━━━━━━━━━━━━━━\u001b[0m\u001b[37m\u001b[0m \u001b[1m0s\u001b[0m 166ms/step - AUC: 1.0000 - accuracy: 1.0000 - loss: 0.2200 - val_AUC: 1.0000 - val_accuracy: 1.0000 - val_loss: 0.1999\n",
      "Epoch 31/100\n",
      "\u001b[1m2/2\u001b[0m \u001b[32m━━━━━━━━━━━━━━━━━━━━\u001b[0m\u001b[37m\u001b[0m \u001b[1m0s\u001b[0m 163ms/step - AUC: 1.0000 - accuracy: 0.9750 - loss: 0.2231 - val_AUC: 1.0000 - val_accuracy: 1.0000 - val_loss: 0.1911\n",
      "Epoch 32/100\n",
      "\u001b[1m2/2\u001b[0m \u001b[32m━━━━━━━━━━━━━━━━━━━━\u001b[0m\u001b[37m\u001b[0m \u001b[1m0s\u001b[0m 133ms/step - AUC: 1.0000 - accuracy: 1.0000 - loss: 0.2464 - val_AUC: 1.0000 - val_accuracy: 1.0000 - val_loss: 0.1828\n",
      "Epoch 33/100\n",
      "\u001b[1m2/2\u001b[0m \u001b[32m━━━━━━━━━━━━━━━━━━━━\u001b[0m\u001b[37m\u001b[0m \u001b[1m0s\u001b[0m 117ms/step - AUC: 1.0000 - accuracy: 1.0000 - loss: 0.2220 - val_AUC: 1.0000 - val_accuracy: 1.0000 - val_loss: 0.1749\n",
      "Epoch 34/100\n",
      "\u001b[1m2/2\u001b[0m \u001b[32m━━━━━━━━━━━━━━━━━━━━\u001b[0m\u001b[37m\u001b[0m \u001b[1m0s\u001b[0m 129ms/step - AUC: 1.0000 - accuracy: 1.0000 - loss: 0.1964 - val_AUC: 1.0000 - val_accuracy: 1.0000 - val_loss: 0.1673\n",
      "Epoch 35/100\n",
      "\u001b[1m2/2\u001b[0m \u001b[32m━━━━━━━━━━━━━━━━━━━━\u001b[0m\u001b[37m\u001b[0m \u001b[1m0s\u001b[0m 166ms/step - AUC: 1.0000 - accuracy: 1.0000 - loss: 0.2124 - val_AUC: 1.0000 - val_accuracy: 1.0000 - val_loss: 0.1601\n",
      "Epoch 36/100\n",
      "\u001b[1m2/2\u001b[0m \u001b[32m━━━━━━━━━━━━━━━━━━━━\u001b[0m\u001b[37m\u001b[0m \u001b[1m0s\u001b[0m 127ms/step - AUC: 1.0000 - accuracy: 1.0000 - loss: 0.1783 - val_AUC: 1.0000 - val_accuracy: 1.0000 - val_loss: 0.1531\n",
      "Epoch 37/100\n",
      "\u001b[1m2/2\u001b[0m \u001b[32m━━━━━━━━━━━━━━━━━━━━\u001b[0m\u001b[37m\u001b[0m \u001b[1m0s\u001b[0m 142ms/step - AUC: 1.0000 - accuracy: 1.0000 - loss: 0.1926 - val_AUC: 1.0000 - val_accuracy: 1.0000 - val_loss: 0.1464\n",
      "Epoch 38/100\n",
      "\u001b[1m2/2\u001b[0m \u001b[32m━━━━━━━━━━━━━━━━━━━━\u001b[0m\u001b[37m\u001b[0m \u001b[1m0s\u001b[0m 133ms/step - AUC: 1.0000 - accuracy: 1.0000 - loss: 0.1438 - val_AUC: 1.0000 - val_accuracy: 1.0000 - val_loss: 0.1401\n",
      "Epoch 39/100\n",
      "\u001b[1m2/2\u001b[0m \u001b[32m━━━━━━━━━━━━━━━━━━━━\u001b[0m\u001b[37m\u001b[0m \u001b[1m0s\u001b[0m 132ms/step - AUC: 1.0000 - accuracy: 1.0000 - loss: 0.1577 - val_AUC: 1.0000 - val_accuracy: 1.0000 - val_loss: 0.1341\n",
      "Epoch 40/100\n",
      "\u001b[1m2/2\u001b[0m \u001b[32m━━━━━━━━━━━━━━━━━━━━\u001b[0m\u001b[37m\u001b[0m \u001b[1m0s\u001b[0m 169ms/step - AUC: 1.0000 - accuracy: 1.0000 - loss: 0.1856 - val_AUC: 1.0000 - val_accuracy: 1.0000 - val_loss: 0.1284\n",
      "Epoch 41/100\n",
      "\u001b[1m2/2\u001b[0m \u001b[32m━━━━━━━━━━━━━━━━━━━━\u001b[0m\u001b[37m\u001b[0m \u001b[1m0s\u001b[0m 129ms/step - AUC: 1.0000 - accuracy: 1.0000 - loss: 0.1380 - val_AUC: 1.0000 - val_accuracy: 1.0000 - val_loss: 0.1230\n",
      "Epoch 42/100\n",
      "\u001b[1m2/2\u001b[0m \u001b[32m━━━━━━━━━━━━━━━━━━━━\u001b[0m\u001b[37m\u001b[0m \u001b[1m0s\u001b[0m 136ms/step - AUC: 1.0000 - accuracy: 1.0000 - loss: 0.1493 - val_AUC: 1.0000 - val_accuracy: 1.0000 - val_loss: 0.1178\n",
      "Epoch 43/100\n",
      "\u001b[1m2/2\u001b[0m \u001b[32m━━━━━━━━━━━━━━━━━━━━\u001b[0m\u001b[37m\u001b[0m \u001b[1m0s\u001b[0m 137ms/step - AUC: 1.0000 - accuracy: 1.0000 - loss: 0.1500 - val_AUC: 1.0000 - val_accuracy: 1.0000 - val_loss: 0.1128\n",
      "Epoch 44/100\n",
      "\u001b[1m2/2\u001b[0m \u001b[32m━━━━━━━━━━━━━━━━━━━━\u001b[0m\u001b[37m\u001b[0m \u001b[1m0s\u001b[0m 134ms/step - AUC: 1.0000 - accuracy: 1.0000 - loss: 0.1369 - val_AUC: 1.0000 - val_accuracy: 1.0000 - val_loss: 0.1082\n",
      "Epoch 45/100\n",
      "\u001b[1m2/2\u001b[0m \u001b[32m━━━━━━━━━━━━━━━━━━━━\u001b[0m\u001b[37m\u001b[0m \u001b[1m0s\u001b[0m 135ms/step - AUC: 1.0000 - accuracy: 1.0000 - loss: 0.1355 - val_AUC: 1.0000 - val_accuracy: 1.0000 - val_loss: 0.1037\n",
      "Epoch 46/100\n",
      "\u001b[1m2/2\u001b[0m \u001b[32m━━━━━━━━━━━━━━━━━━━━\u001b[0m\u001b[37m\u001b[0m \u001b[1m0s\u001b[0m 128ms/step - AUC: 1.0000 - accuracy: 1.0000 - loss: 0.1172 - val_AUC: 1.0000 - val_accuracy: 1.0000 - val_loss: 0.0994\n",
      "Epoch 47/100\n",
      "\u001b[1m2/2\u001b[0m \u001b[32m━━━━━━━━━━━━━━━━━━━━\u001b[0m\u001b[37m\u001b[0m \u001b[1m0s\u001b[0m 134ms/step - AUC: 1.0000 - accuracy: 1.0000 - loss: 0.1178 - val_AUC: 1.0000 - val_accuracy: 1.0000 - val_loss: 0.0953\n",
      "Epoch 48/100\n",
      "\u001b[1m2/2\u001b[0m \u001b[32m━━━━━━━━━━━━━━━━━━━━\u001b[0m\u001b[37m\u001b[0m \u001b[1m0s\u001b[0m 127ms/step - AUC: 1.0000 - accuracy: 1.0000 - loss: 0.1104 - val_AUC: 1.0000 - val_accuracy: 1.0000 - val_loss: 0.0914\n",
      "Epoch 49/100\n",
      "\u001b[1m2/2\u001b[0m \u001b[32m━━━━━━━━━━━━━━━━━━━━\u001b[0m\u001b[37m\u001b[0m \u001b[1m0s\u001b[0m 126ms/step - AUC: 1.0000 - accuracy: 1.0000 - loss: 0.1212 - val_AUC: 1.0000 - val_accuracy: 1.0000 - val_loss: 0.0876\n",
      "Epoch 50/100\n",
      "\u001b[1m2/2\u001b[0m \u001b[32m━━━━━━━━━━━━━━━━━━━━\u001b[0m\u001b[37m\u001b[0m \u001b[1m0s\u001b[0m 119ms/step - AUC: 1.0000 - accuracy: 1.0000 - loss: 0.1284 - val_AUC: 1.0000 - val_accuracy: 1.0000 - val_loss: 0.0838\n",
      "Epoch 51/100\n",
      "\u001b[1m2/2\u001b[0m \u001b[32m━━━━━━━━━━━━━━━━━━━━\u001b[0m\u001b[37m\u001b[0m \u001b[1m0s\u001b[0m 146ms/step - AUC: 1.0000 - accuracy: 1.0000 - loss: 0.1144 - val_AUC: 1.0000 - val_accuracy: 1.0000 - val_loss: 0.0803\n",
      "Epoch 52/100\n",
      "\u001b[1m2/2\u001b[0m \u001b[32m━━━━━━━━━━━━━━━━━━━━\u001b[0m\u001b[37m\u001b[0m \u001b[1m0s\u001b[0m 140ms/step - AUC: 1.0000 - accuracy: 1.0000 - loss: 0.1101 - val_AUC: 1.0000 - val_accuracy: 1.0000 - val_loss: 0.0769\n",
      "Epoch 53/100\n",
      "\u001b[1m2/2\u001b[0m \u001b[32m━━━━━━━━━━━━━━━━━━━━\u001b[0m\u001b[37m\u001b[0m \u001b[1m0s\u001b[0m 181ms/step - AUC: 1.0000 - accuracy: 1.0000 - loss: 0.0867 - val_AUC: 1.0000 - val_accuracy: 1.0000 - val_loss: 0.0738\n",
      "Epoch 54/100\n",
      "\u001b[1m2/2\u001b[0m \u001b[32m━━━━━━━━━━━━━━━━━━━━\u001b[0m\u001b[37m\u001b[0m \u001b[1m0s\u001b[0m 199ms/step - AUC: 1.0000 - accuracy: 1.0000 - loss: 0.0991 - val_AUC: 1.0000 - val_accuracy: 1.0000 - val_loss: 0.0709\n",
      "Epoch 55/100\n",
      "\u001b[1m2/2\u001b[0m \u001b[32m━━━━━━━━━━━━━━━━━━━━\u001b[0m\u001b[37m\u001b[0m \u001b[1m0s\u001b[0m 132ms/step - AUC: 1.0000 - accuracy: 1.0000 - loss: 0.0974 - val_AUC: 1.0000 - val_accuracy: 1.0000 - val_loss: 0.0680\n",
      "Epoch 56/100\n",
      "\u001b[1m2/2\u001b[0m \u001b[32m━━━━━━━━━━━━━━━━━━━━\u001b[0m\u001b[37m\u001b[0m \u001b[1m0s\u001b[0m 165ms/step - AUC: 1.0000 - accuracy: 1.0000 - loss: 0.0793 - val_AUC: 1.0000 - val_accuracy: 1.0000 - val_loss: 0.0653\n",
      "Epoch 57/100\n",
      "\u001b[1m2/2\u001b[0m \u001b[32m━━━━━━━━━━━━━━━━━━━━\u001b[0m\u001b[37m\u001b[0m \u001b[1m0s\u001b[0m 206ms/step - AUC: 1.0000 - accuracy: 1.0000 - loss: 0.0848 - val_AUC: 1.0000 - val_accuracy: 1.0000 - val_loss: 0.0628\n",
      "Epoch 58/100\n",
      "\u001b[1m2/2\u001b[0m \u001b[32m━━━━━━━━━━━━━━━━━━━━\u001b[0m\u001b[37m\u001b[0m \u001b[1m0s\u001b[0m 199ms/step - AUC: 1.0000 - accuracy: 1.0000 - loss: 0.0866 - val_AUC: 1.0000 - val_accuracy: 1.0000 - val_loss: 0.0604\n",
      "Epoch 59/100\n",
      "\u001b[1m2/2\u001b[0m \u001b[32m━━━━━━━━━━━━━━━━━━━━\u001b[0m\u001b[37m\u001b[0m \u001b[1m0s\u001b[0m 172ms/step - AUC: 1.0000 - accuracy: 1.0000 - loss: 0.0862 - val_AUC: 1.0000 - val_accuracy: 1.0000 - val_loss: 0.0581\n",
      "Epoch 60/100\n",
      "\u001b[1m2/2\u001b[0m \u001b[32m━━━━━━━━━━━━━━━━━━━━\u001b[0m\u001b[37m\u001b[0m \u001b[1m0s\u001b[0m 204ms/step - AUC: 1.0000 - accuracy: 1.0000 - loss: 0.0784 - val_AUC: 1.0000 - val_accuracy: 1.0000 - val_loss: 0.0558\n",
      "Epoch 61/100\n",
      "\u001b[1m2/2\u001b[0m \u001b[32m━━━━━━━━━━━━━━━━━━━━\u001b[0m\u001b[37m\u001b[0m \u001b[1m0s\u001b[0m 132ms/step - AUC: 1.0000 - accuracy: 1.0000 - loss: 0.0650 - val_AUC: 1.0000 - val_accuracy: 1.0000 - val_loss: 0.0537\n",
      "Epoch 62/100\n",
      "\u001b[1m2/2\u001b[0m \u001b[32m━━━━━━━━━━━━━━━━━━━━\u001b[0m\u001b[37m\u001b[0m \u001b[1m0s\u001b[0m 130ms/step - AUC: 1.0000 - accuracy: 1.0000 - loss: 0.0858 - val_AUC: 1.0000 - val_accuracy: 1.0000 - val_loss: 0.0515\n",
      "Epoch 63/100\n",
      "\u001b[1m2/2\u001b[0m \u001b[32m━━━━━━━━━━━━━━━━━━━━\u001b[0m\u001b[37m\u001b[0m \u001b[1m0s\u001b[0m 129ms/step - AUC: 1.0000 - accuracy: 1.0000 - loss: 0.0782 - val_AUC: 1.0000 - val_accuracy: 1.0000 - val_loss: 0.0495\n",
      "Epoch 64/100\n",
      "\u001b[1m2/2\u001b[0m \u001b[32m━━━━━━━━━━━━━━━━━━━━\u001b[0m\u001b[37m\u001b[0m \u001b[1m0s\u001b[0m 134ms/step - AUC: 1.0000 - accuracy: 1.0000 - loss: 0.0663 - val_AUC: 1.0000 - val_accuracy: 1.0000 - val_loss: 0.0476\n",
      "Epoch 65/100\n",
      "\u001b[1m2/2\u001b[0m \u001b[32m━━━━━━━━━━━━━━━━━━━━\u001b[0m\u001b[37m\u001b[0m \u001b[1m0s\u001b[0m 144ms/step - AUC: 1.0000 - accuracy: 1.0000 - loss: 0.0697 - val_AUC: 1.0000 - val_accuracy: 1.0000 - val_loss: 0.0457\n",
      "Epoch 66/100\n",
      "\u001b[1m2/2\u001b[0m \u001b[32m━━━━━━━━━━━━━━━━━━━━\u001b[0m\u001b[37m\u001b[0m \u001b[1m0s\u001b[0m 190ms/step - AUC: 1.0000 - accuracy: 1.0000 - loss: 0.0667 - val_AUC: 1.0000 - val_accuracy: 1.0000 - val_loss: 0.0440\n",
      "Epoch 67/100\n",
      "\u001b[1m2/2\u001b[0m \u001b[32m━━━━━━━━━━━━━━━━━━━━\u001b[0m\u001b[37m\u001b[0m \u001b[1m0s\u001b[0m 134ms/step - AUC: 1.0000 - accuracy: 1.0000 - loss: 0.0610 - val_AUC: 1.0000 - val_accuracy: 1.0000 - val_loss: 0.0424\n",
      "Epoch 68/100\n",
      "\u001b[1m2/2\u001b[0m \u001b[32m━━━━━━━━━━━━━━━━━━━━\u001b[0m\u001b[37m\u001b[0m \u001b[1m0s\u001b[0m 130ms/step - AUC: 1.0000 - accuracy: 1.0000 - loss: 0.0613 - val_AUC: 1.0000 - val_accuracy: 1.0000 - val_loss: 0.0409\n",
      "Epoch 69/100\n",
      "\u001b[1m2/2\u001b[0m \u001b[32m━━━━━━━━━━━━━━━━━━━━\u001b[0m\u001b[37m\u001b[0m \u001b[1m0s\u001b[0m 130ms/step - AUC: 1.0000 - accuracy: 1.0000 - loss: 0.0549 - val_AUC: 1.0000 - val_accuracy: 1.0000 - val_loss: 0.0394\n",
      "Epoch 70/100\n",
      "\u001b[1m2/2\u001b[0m \u001b[32m━━━━━━━━━━━━━━━━━━━━\u001b[0m\u001b[37m\u001b[0m \u001b[1m0s\u001b[0m 132ms/step - AUC: 1.0000 - accuracy: 1.0000 - loss: 0.0593 - val_AUC: 1.0000 - val_accuracy: 1.0000 - val_loss: 0.0380\n",
      "Epoch 71/100\n",
      "\u001b[1m2/2\u001b[0m \u001b[32m━━━━━━━━━━━━━━━━━━━━\u001b[0m\u001b[37m\u001b[0m \u001b[1m0s\u001b[0m 133ms/step - AUC: 1.0000 - accuracy: 1.0000 - loss: 0.0548 - val_AUC: 1.0000 - val_accuracy: 1.0000 - val_loss: 0.0366\n",
      "Epoch 72/100\n",
      "\u001b[1m2/2\u001b[0m \u001b[32m━━━━━━━━━━━━━━━━━━━━\u001b[0m\u001b[37m\u001b[0m \u001b[1m0s\u001b[0m 138ms/step - AUC: 1.0000 - accuracy: 1.0000 - loss: 0.0675 - val_AUC: 1.0000 - val_accuracy: 1.0000 - val_loss: 0.0353\n",
      "Epoch 73/100\n",
      "\u001b[1m2/2\u001b[0m \u001b[32m━━━━━━━━━━━━━━━━━━━━\u001b[0m\u001b[37m\u001b[0m \u001b[1m0s\u001b[0m 132ms/step - AUC: 1.0000 - accuracy: 1.0000 - loss: 0.0660 - val_AUC: 1.0000 - val_accuracy: 1.0000 - val_loss: 0.0340\n",
      "Epoch 74/100\n",
      "\u001b[1m2/2\u001b[0m \u001b[32m━━━━━━━━━━━━━━━━━━━━\u001b[0m\u001b[37m\u001b[0m \u001b[1m0s\u001b[0m 131ms/step - AUC: 1.0000 - accuracy: 1.0000 - loss: 0.0568 - val_AUC: 1.0000 - val_accuracy: 1.0000 - val_loss: 0.0328\n",
      "Epoch 75/100\n",
      "\u001b[1m2/2\u001b[0m \u001b[32m━━━━━━━━━━━━━━━━━━━━\u001b[0m\u001b[37m\u001b[0m \u001b[1m0s\u001b[0m 146ms/step - AUC: 1.0000 - accuracy: 1.0000 - loss: 0.0520 - val_AUC: 1.0000 - val_accuracy: 1.0000 - val_loss: 0.0316\n",
      "Epoch 76/100\n",
      "\u001b[1m2/2\u001b[0m \u001b[32m━━━━━━━━━━━━━━━━━━━━\u001b[0m\u001b[37m\u001b[0m \u001b[1m0s\u001b[0m 148ms/step - AUC: 1.0000 - accuracy: 1.0000 - loss: 0.0472 - val_AUC: 1.0000 - val_accuracy: 1.0000 - val_loss: 0.0305\n",
      "Epoch 77/100\n",
      "\u001b[1m2/2\u001b[0m \u001b[32m━━━━━━━━━━━━━━━━━━━━\u001b[0m\u001b[37m\u001b[0m \u001b[1m0s\u001b[0m 127ms/step - AUC: 1.0000 - accuracy: 1.0000 - loss: 0.0471 - val_AUC: 1.0000 - val_accuracy: 1.0000 - val_loss: 0.0295\n",
      "Epoch 78/100\n",
      "\u001b[1m2/2\u001b[0m \u001b[32m━━━━━━━━━━━━━━━━━━━━\u001b[0m\u001b[37m\u001b[0m \u001b[1m0s\u001b[0m 140ms/step - AUC: 1.0000 - accuracy: 1.0000 - loss: 0.0576 - val_AUC: 1.0000 - val_accuracy: 1.0000 - val_loss: 0.0284\n",
      "Epoch 79/100\n",
      "\u001b[1m2/2\u001b[0m \u001b[32m━━━━━━━━━━━━━━━━━━━━\u001b[0m\u001b[37m\u001b[0m \u001b[1m0s\u001b[0m 168ms/step - AUC: 1.0000 - accuracy: 1.0000 - loss: 0.0404 - val_AUC: 1.0000 - val_accuracy: 1.0000 - val_loss: 0.0275\n",
      "Epoch 80/100\n",
      "\u001b[1m2/2\u001b[0m \u001b[32m━━━━━━━━━━━━━━━━━━━━\u001b[0m\u001b[37m\u001b[0m \u001b[1m0s\u001b[0m 128ms/step - AUC: 1.0000 - accuracy: 1.0000 - loss: 0.0449 - val_AUC: 1.0000 - val_accuracy: 1.0000 - val_loss: 0.0266\n",
      "Epoch 81/100\n",
      "\u001b[1m2/2\u001b[0m \u001b[32m━━━━━━━━━━━━━━━━━━━━\u001b[0m\u001b[37m\u001b[0m \u001b[1m0s\u001b[0m 141ms/step - AUC: 1.0000 - accuracy: 1.0000 - loss: 0.0420 - val_AUC: 1.0000 - val_accuracy: 1.0000 - val_loss: 0.0257\n",
      "Epoch 82/100\n",
      "\u001b[1m2/2\u001b[0m \u001b[32m━━━━━━━━━━━━━━━━━━━━\u001b[0m\u001b[37m\u001b[0m \u001b[1m0s\u001b[0m 137ms/step - AUC: 1.0000 - accuracy: 1.0000 - loss: 0.0456 - val_AUC: 1.0000 - val_accuracy: 1.0000 - val_loss: 0.0249\n",
      "Epoch 83/100\n",
      "\u001b[1m2/2\u001b[0m \u001b[32m━━━━━━━━━━━━━━━━━━━━\u001b[0m\u001b[37m\u001b[0m \u001b[1m0s\u001b[0m 140ms/step - AUC: 1.0000 - accuracy: 1.0000 - loss: 0.0363 - val_AUC: 1.0000 - val_accuracy: 1.0000 - val_loss: 0.0241\n",
      "Epoch 84/100\n",
      "\u001b[1m2/2\u001b[0m \u001b[32m━━━━━━━━━━━━━━━━━━━━\u001b[0m\u001b[37m\u001b[0m \u001b[1m0s\u001b[0m 154ms/step - AUC: 1.0000 - accuracy: 1.0000 - loss: 0.0437 - val_AUC: 1.0000 - val_accuracy: 1.0000 - val_loss: 0.0234\n",
      "Epoch 85/100\n",
      "\u001b[1m2/2\u001b[0m \u001b[32m━━━━━━━━━━━━━━━━━━━━\u001b[0m\u001b[37m\u001b[0m \u001b[1m0s\u001b[0m 133ms/step - AUC: 1.0000 - accuracy: 1.0000 - loss: 0.0432 - val_AUC: 1.0000 - val_accuracy: 1.0000 - val_loss: 0.0226\n",
      "Epoch 86/100\n",
      "\u001b[1m2/2\u001b[0m \u001b[32m━━━━━━━━━━━━━━━━━━━━\u001b[0m\u001b[37m\u001b[0m \u001b[1m0s\u001b[0m 126ms/step - AUC: 1.0000 - accuracy: 1.0000 - loss: 0.0352 - val_AUC: 1.0000 - val_accuracy: 1.0000 - val_loss: 0.0220\n",
      "Epoch 87/100\n",
      "\u001b[1m2/2\u001b[0m \u001b[32m━━━━━━━━━━━━━━━━━━━━\u001b[0m\u001b[37m\u001b[0m \u001b[1m0s\u001b[0m 135ms/step - AUC: 1.0000 - accuracy: 1.0000 - loss: 0.0323 - val_AUC: 1.0000 - val_accuracy: 1.0000 - val_loss: 0.0213\n",
      "Epoch 88/100\n",
      "\u001b[1m2/2\u001b[0m \u001b[32m━━━━━━━━━━━━━━━━━━━━\u001b[0m\u001b[37m\u001b[0m \u001b[1m0s\u001b[0m 162ms/step - AUC: 1.0000 - accuracy: 1.0000 - loss: 0.0271 - val_AUC: 1.0000 - val_accuracy: 1.0000 - val_loss: 0.0207\n",
      "Epoch 89/100\n",
      "\u001b[1m2/2\u001b[0m \u001b[32m━━━━━━━━━━━━━━━━━━━━\u001b[0m\u001b[37m\u001b[0m \u001b[1m0s\u001b[0m 142ms/step - AUC: 1.0000 - accuracy: 1.0000 - loss: 0.0309 - val_AUC: 1.0000 - val_accuracy: 1.0000 - val_loss: 0.0201\n",
      "Epoch 90/100\n",
      "\u001b[1m2/2\u001b[0m \u001b[32m━━━━━━━━━━━━━━━━━━━━\u001b[0m\u001b[37m\u001b[0m \u001b[1m0s\u001b[0m 144ms/step - AUC: 1.0000 - accuracy: 1.0000 - loss: 0.0362 - val_AUC: 1.0000 - val_accuracy: 1.0000 - val_loss: 0.0195\n",
      "Epoch 91/100\n",
      "\u001b[1m2/2\u001b[0m \u001b[32m━━━━━━━━━━━━━━━━━━━━\u001b[0m\u001b[37m\u001b[0m \u001b[1m0s\u001b[0m 139ms/step - AUC: 1.0000 - accuracy: 1.0000 - loss: 0.0393 - val_AUC: 1.0000 - val_accuracy: 1.0000 - val_loss: 0.0189\n",
      "Epoch 92/100\n",
      "\u001b[1m2/2\u001b[0m \u001b[32m━━━━━━━━━━━━━━━━━━━━\u001b[0m\u001b[37m\u001b[0m \u001b[1m0s\u001b[0m 167ms/step - AUC: 1.0000 - accuracy: 1.0000 - loss: 0.0320 - val_AUC: 1.0000 - val_accuracy: 1.0000 - val_loss: 0.0184\n",
      "Epoch 93/100\n",
      "\u001b[1m2/2\u001b[0m \u001b[32m━━━━━━━━━━━━━━━━━━━━\u001b[0m\u001b[37m\u001b[0m \u001b[1m0s\u001b[0m 129ms/step - AUC: 1.0000 - accuracy: 1.0000 - loss: 0.0430 - val_AUC: 1.0000 - val_accuracy: 1.0000 - val_loss: 0.0178\n",
      "Epoch 94/100\n",
      "\u001b[1m2/2\u001b[0m \u001b[32m━━━━━━━━━━━━━━━━━━━━\u001b[0m\u001b[37m\u001b[0m \u001b[1m0s\u001b[0m 141ms/step - AUC: 1.0000 - accuracy: 1.0000 - loss: 0.0303 - val_AUC: 1.0000 - val_accuracy: 1.0000 - val_loss: 0.0173\n",
      "Epoch 95/100\n",
      "\u001b[1m2/2\u001b[0m \u001b[32m━━━━━━━━━━━━━━━━━━━━\u001b[0m\u001b[37m\u001b[0m \u001b[1m0s\u001b[0m 133ms/step - AUC: 1.0000 - accuracy: 1.0000 - loss: 0.0326 - val_AUC: 1.0000 - val_accuracy: 1.0000 - val_loss: 0.0168\n",
      "Epoch 96/100\n",
      "\u001b[1m2/2\u001b[0m \u001b[32m━━━━━━━━━━━━━━━━━━━━\u001b[0m\u001b[37m\u001b[0m \u001b[1m0s\u001b[0m 141ms/step - AUC: 1.0000 - accuracy: 1.0000 - loss: 0.0269 - val_AUC: 1.0000 - val_accuracy: 1.0000 - val_loss: 0.0164\n",
      "Epoch 97/100\n",
      "\u001b[1m2/2\u001b[0m \u001b[32m━━━━━━━━━━━━━━━━━━━━\u001b[0m\u001b[37m\u001b[0m \u001b[1m0s\u001b[0m 138ms/step - AUC: 1.0000 - accuracy: 1.0000 - loss: 0.0306 - val_AUC: 1.0000 - val_accuracy: 1.0000 - val_loss: 0.0159\n",
      "Epoch 98/100\n",
      "\u001b[1m2/2\u001b[0m \u001b[32m━━━━━━━━━━━━━━━━━━━━\u001b[0m\u001b[37m\u001b[0m \u001b[1m0s\u001b[0m 150ms/step - AUC: 1.0000 - accuracy: 1.0000 - loss: 0.0336 - val_AUC: 1.0000 - val_accuracy: 1.0000 - val_loss: 0.0154\n",
      "Epoch 99/100\n",
      "\u001b[1m2/2\u001b[0m \u001b[32m━━━━━━━━━━━━━━━━━━━━\u001b[0m\u001b[37m\u001b[0m \u001b[1m0s\u001b[0m 146ms/step - AUC: 1.0000 - accuracy: 1.0000 - loss: 0.0272 - val_AUC: 1.0000 - val_accuracy: 1.0000 - val_loss: 0.0150\n",
      "Epoch 100/100\n",
      "\u001b[1m2/2\u001b[0m \u001b[32m━━━━━━━━━━━━━━━━━━━━\u001b[0m\u001b[37m\u001b[0m \u001b[1m0s\u001b[0m 134ms/step - AUC: 1.0000 - accuracy: 1.0000 - loss: 0.0266 - val_AUC: 1.0000 - val_accuracy: 1.0000 - val_loss: 0.0146\n"
     ]
    }
   ],
   "source": [
    "es = keras.callbacks.EarlyStopping(\n",
    "    monitor=\"val_loss\", patience=10, restore_best_weights=True\n",
    ")\n",
    "\n",
    "history = model.fit(\n",
    "    X_train, y_train,\n",
    "    validation_data=(X_val, y_val),\n",
    "    epochs=100, batch_size=32,\n",
    "    callbacks=[es], verbose=1\n",
    ")"
   ]
  },
  {
   "cell_type": "code",
   "execution_count": 41,
   "id": "98b88bad",
   "metadata": {},
   "outputs": [
    {
     "name": "stdout",
     "output_type": "stream",
     "text": [
      "Test Acc: 1.0 AUC: 1.0\n",
      "\u001b[1m1/1\u001b[0m \u001b[32m━━━━━━━━━━━━━━━━━━━━\u001b[0m\u001b[37m\u001b[0m \u001b[1m0s\u001b[0m 123ms/step\n",
      "[[4 0]\n",
      " [0 5]]\n",
      "              precision    recall  f1-score   support\n",
      "\n",
      "           0      1.000     1.000     1.000         4\n",
      "           1      1.000     1.000     1.000         5\n",
      "\n",
      "    accuracy                          1.000         9\n",
      "   macro avg      1.000     1.000     1.000         9\n",
      "weighted avg      1.000     1.000     1.000         9\n",
      "\n"
     ]
    }
   ],
   "source": [
    "from sklearn.metrics import classification_report, confusion_matrix\n",
    "\n",
    "loss, acc, auc = model.evaluate(X_test, y_test, verbose=0)\n",
    "print(\"Test Acc:\", acc, \"AUC:\", auc)\n",
    "\n",
    "y_proba = model.predict(X_test).ravel()\n",
    "y_pred = (y_proba >= 0.5).astype(int)\n",
    "\n",
    "print(confusion_matrix(y_test, y_pred))\n",
    "print(classification_report(y_test, y_pred, digits=3))"
   ]
  },
  {
   "cell_type": "code",
   "execution_count": 42,
   "id": "0b7f354b",
   "metadata": {},
   "outputs": [
    {
     "data": {
      "image/png": "[encoded data removed]",
      "text/plain": [
       "<Figure size 640x480 with 1 Axes>"
      ]
     },
     "metadata": {},
     "output_type": "display_data"
    }
   ],
   "source": [
    "import matplotlib.pyplot as plt\n",
    "\n",
    "plt.plot(history.history[\"loss\"], label=\"Train Loss\")\n",
    "plt.plot(history.history[\"val_loss\"], label=\"Val Loss\")\n",
    "plt.xlabel(\"Epoch\"); plt.ylabel(\"Loss\"); plt.legend()\n",
    "plt.title(\"Learning Curve\")\n",
    "plt.tight_layout(); plt.savefig(\"learning_curve.png\", dpi=120)"
   ]
  }
 ],
 "metadata": {
  "kernelspec": {
   "display_name": ".venv",
   "language": "python",
   "name": "python3"
  },
  "language_info": {
   "codemirror_mode": {
    "name": "ipython",
    "version": 3
   },
   "file_extension": ".py",
   "mimetype": "text/x-python",
   "name": "python",
   "nbconvert_exporter": "python",
   "pygments_lexer": "ipython3",
   "version": "3.10.11"
  }
 },
 "nbformat": 4,
 "nbformat_minor": 5
}
